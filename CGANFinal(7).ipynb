{
  "nbformat": 4,
  "nbformat_minor": 0,
  "metadata": {
    "colab": {
      "provenance": [],
      "gpuType": "T4"
    },
    "kernelspec": {
      "name": "python3",
      "display_name": "Python 3"
    },
    "language_info": {
      "name": "python"
    },
    "accelerator": "GPU"
  },
  "cells": [
    {
      "cell_type": "code",
      "execution_count": null,
      "metadata": {
        "colab": {
          "base_uri": "https://localhost:8080/"
        },
        "id": "qUMRrMrxJr_n",
        "outputId": "6af66c10-3b0a-4fd3-f860-69f3a492ee9e"
      },
      "outputs": [
        {
          "output_type": "stream",
          "name": "stdout",
          "text": [
            "  Preparing metadata (setup.py) ... \u001b[?25l\u001b[?25hdone\n"
          ]
        }
      ],
      "source": [
        "!pip install -q git+https://github.com/tensorflow/docs"
      ]
    },
    {
      "cell_type": "code",
      "source": [
        "import keras\n",
        "\n",
        "from keras import layers\n",
        "from keras import ops\n",
        "from tensorflow_docs.vis import embed\n",
        "import tensorflow as tf\n",
        "import numpy as np\n",
        "import imageio"
      ],
      "metadata": {
        "id": "fmsDid-7JxyP"
      },
      "execution_count": null,
      "outputs": []
    },
    {
      "cell_type": "code",
      "source": [
        "batch_size = 64\n",
        "num_channels = 1\n",
        "num_classes = 10\n",
        "image_size = 28\n",
        "latent_dim = 128"
      ],
      "metadata": {
        "id": "6G1XqEpQJx1m"
      },
      "execution_count": null,
      "outputs": []
    },
    {
      "cell_type": "code",
      "source": [
        "(x_train, y_train), (x_test, y_test) = keras.datasets.mnist.load_data()\n",
        "all_digits = np.concatenate([x_train, x_test])\n",
        "all_labels = np.concatenate([y_train, y_test])\n",
        "\n",
        "# Scale the pixel values to [0, 1] range, add a channel dimension to\n",
        "# the images, and one-hot encode the labels.\n",
        "all_digits = all_digits.astype(\"float32\") / 255.0\n",
        "all_digits = np.reshape(all_digits, (-1, 28, 28, 1))\n",
        "all_labels = keras.utils.to_categorical(all_labels, 10)\n",
        "\n",
        "# Create tf.data.Dataset.\n",
        "dataset = tf.data.Dataset.from_tensor_slices((all_digits, all_labels))\n",
        "dataset = dataset.shuffle(buffer_size=1024).batch(batch_size)\n",
        "\n",
        "print(f\"Shape of training images: {all_digits.shape}\")\n",
        "print(f\"Shape of training labels: {all_labels.shape}\")"
      ],
      "metadata": {
        "colab": {
          "base_uri": "https://localhost:8080/"
        },
        "id": "qhG7mloJJx4e",
        "outputId": "643b800e-83ee-4822-f23c-f2e48060c1e8"
      },
      "execution_count": null,
      "outputs": [
        {
          "output_type": "stream",
          "name": "stdout",
          "text": [
            "Downloading data from https://storage.googleapis.com/tensorflow/tf-keras-datasets/mnist.npz\n",
            "\u001b[1m11490434/11490434\u001b[0m \u001b[32m━━━━━━━━━━━━━━━━━━━━\u001b[0m\u001b[37m\u001b[0m \u001b[1m0s\u001b[0m 0us/step\n",
            "Shape of training images: (70000, 28, 28, 1)\n",
            "Shape of training labels: (70000, 10)\n"
          ]
        }
      ]
    },
    {
      "cell_type": "code",
      "source": [
        "generator_in_channels = latent_dim + num_classes\n",
        "discriminator_in_channels = num_channels + num_classes\n",
        "print(generator_in_channels, discriminator_in_channels)"
      ],
      "metadata": {
        "colab": {
          "base_uri": "https://localhost:8080/"
        },
        "id": "eivOC5WSJx72",
        "outputId": "7bd53cb1-eb64-408a-e41c-7dbaf8d8b3b2"
      },
      "execution_count": null,
      "outputs": [
        {
          "output_type": "stream",
          "name": "stdout",
          "text": [
            "138 11\n"
          ]
        }
      ]
    },
    {
      "cell_type": "code",
      "source": [
        "# Create the discriminator.\n",
        "discriminator = keras.Sequential(\n",
        "    [\n",
        "        keras.layers.InputLayer((28, 28, discriminator_in_channels)),\n",
        "        layers.Conv2D(64, (3, 3), strides=(2, 2), padding=\"same\"),\n",
        "        layers.LeakyReLU(negative_slope=0.2),\n",
        "        layers.Conv2D(128, (3, 3), strides=(2, 2), padding=\"same\"),\n",
        "        layers.LeakyReLU(negative_slope=0.2),\n",
        "        layers.GlobalMaxPooling2D(),\n",
        "        layers.Dense(1),\n",
        "    ],\n",
        "    name=\"discriminator\",\n",
        ")\n",
        "\n",
        "# Create the generator.\n",
        "generator = keras.Sequential(\n",
        "    [\n",
        "        keras.layers.InputLayer((generator_in_channels,)),\n",
        "        # We want to generate 128 + num_classes coefficients to reshape into a\n",
        "        # 7x7x(128 + num_classes) map.\n",
        "        layers.Dense(7 * 7 * generator_in_channels),\n",
        "        layers.LeakyReLU(negative_slope=0.2),\n",
        "        layers.Reshape((7, 7, generator_in_channels)),\n",
        "        layers.Conv2DTranspose(128, (4, 4), strides=(2, 2), padding=\"same\"),\n",
        "        layers.LeakyReLU(negative_slope=0.2),\n",
        "        layers.Conv2DTranspose(128, (4, 4), strides=(2, 2), padding=\"same\"),\n",
        "        layers.LeakyReLU(negative_slope=0.2),\n",
        "        layers.Conv2D(1, (7, 7), padding=\"same\", activation=\"sigmoid\"),\n",
        "    ],\n",
        "    name=\"generator\",\n",
        ")"
      ],
      "metadata": {
        "id": "fYxMxa8tJ6em"
      },
      "execution_count": null,
      "outputs": []
    },
    {
      "cell_type": "code",
      "source": [
        "class ConditionalGAN(keras.Model):\n",
        "    def __init__(self, discriminator, generator, latent_dim):\n",
        "        super().__init__()\n",
        "        self.discriminator = discriminator\n",
        "        self.generator = generator\n",
        "        self.latent_dim = latent_dim\n",
        "        self.seed_generator = keras.random.SeedGenerator(1337)\n",
        "        self.gen_loss_tracker = keras.metrics.Mean(name=\"generator_loss\")\n",
        "        self.disc_loss_tracker = keras.metrics.Mean(name=\"discriminator_loss\")\n",
        "\n",
        "    @property\n",
        "    def metrics(self):\n",
        "        return [self.gen_loss_tracker, self.disc_loss_tracker]\n",
        "\n",
        "    def compile(self, d_optimizer, g_optimizer, loss_fn):\n",
        "        super().compile()\n",
        "        self.d_optimizer = d_optimizer\n",
        "        self.g_optimizer = g_optimizer\n",
        "        self.loss_fn = loss_fn\n",
        "\n",
        "    def train_step(self, data):\n",
        "        # Unpack the data.\n",
        "        real_images, one_hot_labels = data\n",
        "\n",
        "        # Add dummy dimensions to the labels so that they can be concatenated with\n",
        "        # the images. This is for the discriminator.\n",
        "        image_one_hot_labels = one_hot_labels[:, :, None, None]\n",
        "        image_one_hot_labels = ops.repeat(\n",
        "            image_one_hot_labels, repeats=[image_size * image_size]\n",
        "        )\n",
        "        image_one_hot_labels = ops.reshape(\n",
        "            image_one_hot_labels, (-1, image_size, image_size, num_classes)\n",
        "        )\n",
        "\n",
        "        # Sample random points in the latent space and concatenate the labels.\n",
        "        # This is for the generator.\n",
        "        batch_size = ops.shape(real_images)[0]\n",
        "        random_latent_vectors = keras.random.normal(\n",
        "            shape=(batch_size, self.latent_dim), seed=self.seed_generator\n",
        "        )\n",
        "        random_vector_labels = ops.concatenate(\n",
        "            [random_latent_vectors, one_hot_labels], axis=1\n",
        "        )\n",
        "\n",
        "        # Decode the noise (guided by labels) to fake images.\n",
        "        generated_images = self.generator(random_vector_labels)\n",
        "\n",
        "        # Combine them with real images. Note that we are concatenating the labels\n",
        "        # with these images here.\n",
        "        fake_image_and_labels = ops.concatenate(\n",
        "            [generated_images, image_one_hot_labels], -1\n",
        "        )\n",
        "        real_image_and_labels = ops.concatenate([real_images, image_one_hot_labels], -1)\n",
        "        combined_images = ops.concatenate(\n",
        "            [fake_image_and_labels, real_image_and_labels], axis=0\n",
        "        )\n",
        "\n",
        "        # Assemble labels discriminating real from fake images.\n",
        "        labels = ops.concatenate(\n",
        "            [ops.ones((batch_size, 1)), ops.zeros((batch_size, 1))], axis=0\n",
        "        )\n",
        "\n",
        "        # Train the discriminator.\n",
        "        with tf.GradientTape() as tape:\n",
        "            predictions = self.discriminator(combined_images)\n",
        "            d_loss = self.loss_fn(labels, predictions)\n",
        "        grads = tape.gradient(d_loss, self.discriminator.trainable_weights)\n",
        "        self.d_optimizer.apply_gradients(\n",
        "            zip(grads, self.discriminator.trainable_weights)\n",
        "        )\n",
        "\n",
        "        # Sample random points in the latent space.\n",
        "        random_latent_vectors = keras.random.normal(\n",
        "            shape=(batch_size, self.latent_dim), seed=self.seed_generator\n",
        "        )\n",
        "        random_vector_labels = ops.concatenate(\n",
        "            [random_latent_vectors, one_hot_labels], axis=1\n",
        "        )\n",
        "\n",
        "        # Assemble labels that say \"all real images\".\n",
        "        misleading_labels = ops.zeros((batch_size, 1))\n",
        "\n",
        "        # Train the generator (note that we should *not* update the weights\n",
        "        # of the discriminator)!\n",
        "        with tf.GradientTape() as tape:\n",
        "            fake_images = self.generator(random_vector_labels)\n",
        "            fake_image_and_labels = ops.concatenate(\n",
        "                [fake_images, image_one_hot_labels], -1\n",
        "            )\n",
        "            predictions = self.discriminator(fake_image_and_labels)\n",
        "            g_loss = self.loss_fn(misleading_labels, predictions)\n",
        "        grads = tape.gradient(g_loss, self.generator.trainable_weights)\n",
        "        self.g_optimizer.apply_gradients(zip(grads, self.generator.trainable_weights))\n",
        "\n",
        "        # Monitor loss.\n",
        "        self.gen_loss_tracker.update_state(g_loss)\n",
        "        self.disc_loss_tracker.update_state(d_loss)\n",
        "        return {\n",
        "            \"g_loss\": self.gen_loss_tracker.result(),\n",
        "            \"d_loss\": self.disc_loss_tracker.result(),\n",
        "        }"
      ],
      "metadata": {
        "id": "cNHgBEqAJ6iG"
      },
      "execution_count": null,
      "outputs": []
    },
    {
      "cell_type": "code",
      "source": [
        "cond_gan = ConditionalGAN(\n",
        "    discriminator=discriminator, generator=generator, latent_dim=latent_dim\n",
        ")\n",
        "cond_gan.compile(\n",
        "    d_optimizer=keras.optimizers.Adam(learning_rate=0.0003),\n",
        "    g_optimizer=keras.optimizers.Adam(learning_rate=0.0003),\n",
        "    loss_fn=keras.losses.BinaryCrossentropy(from_logits=True),\n",
        ")\n",
        "\n",
        "cond_gan.fit(dataset, epochs=20)"
      ],
      "metadata": {
        "colab": {
          "base_uri": "https://localhost:8080/"
        },
        "id": "rU7ggmXYJ6ld",
        "outputId": "df721ae7-ba45-49cf-c269-85988c902c41"
      },
      "execution_count": null,
      "outputs": [
        {
          "output_type": "stream",
          "name": "stdout",
          "text": [
            "Epoch 1/20\n",
            "\u001b[1m1094/1094\u001b[0m \u001b[32m━━━━━━━━━━━━━━━━━━━━\u001b[0m\u001b[37m\u001b[0m \u001b[1m39s\u001b[0m 28ms/step - d_loss: 0.4085 - g_loss: 1.5557\n",
            "Epoch 2/20\n",
            "\u001b[1m1094/1094\u001b[0m \u001b[32m━━━━━━━━━━━━━━━━━━━━\u001b[0m\u001b[37m\u001b[0m \u001b[1m31s\u001b[0m 24ms/step - d_loss: 0.5365 - g_loss: 1.2010\n",
            "Epoch 3/20\n",
            "\u001b[1m1094/1094\u001b[0m \u001b[32m━━━━━━━━━━━━━━━━━━━━\u001b[0m\u001b[37m\u001b[0m \u001b[1m40s\u001b[0m 24ms/step - d_loss: 0.4517 - g_loss: 1.3913\n",
            "Epoch 4/20\n",
            "\u001b[1m1094/1094\u001b[0m \u001b[32m━━━━━━━━━━━━━━━━━━━━\u001b[0m\u001b[37m\u001b[0m \u001b[1m42s\u001b[0m 25ms/step - d_loss: 0.3185 - g_loss: 1.8856\n",
            "Epoch 5/20\n",
            "\u001b[1m1094/1094\u001b[0m \u001b[32m━━━━━━━━━━━━━━━━━━━━\u001b[0m\u001b[37m\u001b[0m \u001b[1m40s\u001b[0m 24ms/step - d_loss: 0.2431 - g_loss: 2.1918\n",
            "Epoch 6/20\n",
            "\u001b[1m1094/1094\u001b[0m \u001b[32m━━━━━━━━━━━━━━━━━━━━\u001b[0m\u001b[37m\u001b[0m \u001b[1m42s\u001b[0m 25ms/step - d_loss: 0.6166 - g_loss: 1.1237\n",
            "Epoch 7/20\n",
            "\u001b[1m1094/1094\u001b[0m \u001b[32m━━━━━━━━━━━━━━━━━━━━\u001b[0m\u001b[37m\u001b[0m \u001b[1m40s\u001b[0m 24ms/step - d_loss: 0.6637 - g_loss: 0.8682\n",
            "Epoch 8/20\n",
            "\u001b[1m1094/1094\u001b[0m \u001b[32m━━━━━━━━━━━━━━━━━━━━\u001b[0m\u001b[37m\u001b[0m \u001b[1m26s\u001b[0m 24ms/step - d_loss: 0.6630 - g_loss: 0.8739\n",
            "Epoch 9/20\n",
            "\u001b[1m1094/1094\u001b[0m \u001b[32m━━━━━━━━━━━━━━━━━━━━\u001b[0m\u001b[37m\u001b[0m \u001b[1m26s\u001b[0m 24ms/step - d_loss: 0.6855 - g_loss: 0.7829\n",
            "Epoch 10/20\n",
            "\u001b[1m1094/1094\u001b[0m \u001b[32m━━━━━━━━━━━━━━━━━━━━\u001b[0m\u001b[37m\u001b[0m \u001b[1m26s\u001b[0m 24ms/step - d_loss: 0.6829 - g_loss: 0.7731\n",
            "Epoch 11/20\n",
            "\u001b[1m1094/1094\u001b[0m \u001b[32m━━━━━━━━━━━━━━━━━━━━\u001b[0m\u001b[37m\u001b[0m \u001b[1m42s\u001b[0m 24ms/step - d_loss: 0.6881 - g_loss: 0.7472\n",
            "Epoch 12/20\n",
            "\u001b[1m1094/1094\u001b[0m \u001b[32m━━━━━━━━━━━━━━━━━━━━\u001b[0m\u001b[37m\u001b[0m \u001b[1m41s\u001b[0m 24ms/step - d_loss: 0.6832 - g_loss: 0.7491\n",
            "Epoch 13/20\n",
            "\u001b[1m1094/1094\u001b[0m \u001b[32m━━━━━━━━━━━━━━━━━━━━\u001b[0m\u001b[37m\u001b[0m \u001b[1m26s\u001b[0m 24ms/step - d_loss: 0.6840 - g_loss: 0.7426\n",
            "Epoch 14/20\n",
            "\u001b[1m1094/1094\u001b[0m \u001b[32m━━━━━━━━━━━━━━━━━━━━\u001b[0m\u001b[37m\u001b[0m \u001b[1m41s\u001b[0m 24ms/step - d_loss: 0.6834 - g_loss: 0.7460\n",
            "Epoch 15/20\n",
            "\u001b[1m1094/1094\u001b[0m \u001b[32m━━━━━━━━━━━━━━━━━━━━\u001b[0m\u001b[37m\u001b[0m \u001b[1m27s\u001b[0m 25ms/step - d_loss: 0.6827 - g_loss: 0.7446\n",
            "Epoch 16/20\n",
            "\u001b[1m1094/1094\u001b[0m \u001b[32m━━━━━━━━━━━━━━━━━━━━\u001b[0m\u001b[37m\u001b[0m \u001b[1m26s\u001b[0m 24ms/step - d_loss: 0.6777 - g_loss: 0.7500\n",
            "Epoch 17/20\n",
            "\u001b[1m1094/1094\u001b[0m \u001b[32m━━━━━━━━━━━━━━━━━━━━\u001b[0m\u001b[37m\u001b[0m \u001b[1m41s\u001b[0m 24ms/step - d_loss: 0.6796 - g_loss: 0.7505\n",
            "Epoch 18/20\n",
            "\u001b[1m1094/1094\u001b[0m \u001b[32m━━━━━━━━━━━━━━━━━━━━\u001b[0m\u001b[37m\u001b[0m \u001b[1m27s\u001b[0m 24ms/step - d_loss: 0.6698 - g_loss: 0.7581\n",
            "Epoch 19/20\n",
            "\u001b[1m1094/1094\u001b[0m \u001b[32m━━━━━━━━━━━━━━━━━━━━\u001b[0m\u001b[37m\u001b[0m \u001b[1m26s\u001b[0m 24ms/step - d_loss: 0.6683 - g_loss: 0.7725\n",
            "Epoch 20/20\n",
            "\u001b[1m1094/1094\u001b[0m \u001b[32m━━━━━━━━━━━━━━━━━━━━\u001b[0m\u001b[37m\u001b[0m \u001b[1m41s\u001b[0m 24ms/step - d_loss: 0.6608 - g_loss: 0.7827\n"
          ]
        },
        {
          "output_type": "execute_result",
          "data": {
            "text/plain": [
              "<keras.src.callbacks.history.History at 0x7f2cdec39ed0>"
            ]
          },
          "metadata": {},
          "execution_count": 9
        }
      ]
    },
    {
      "cell_type": "code",
      "source": [
        "# We first extract the trained generator from our Conditional GAN.\n",
        "trained_gen = cond_gan.generator\n",
        "\n",
        "# Choose the number of intermediate images that would be generated in\n",
        "# between the interpolation + 2 (start and last images).\n",
        "num_interpolation = 9  # @param {type:\"integer\"}\n",
        "\n",
        "# Sample noise for the interpolation.\n",
        "interpolation_noise = keras.random.normal(shape=(1, latent_dim))\n",
        "interpolation_noise = ops.repeat(interpolation_noise, repeats=num_interpolation)\n",
        "interpolation_noise = ops.reshape(interpolation_noise, (num_interpolation, latent_dim))\n",
        "\n",
        "\n",
        "def interpolate_class(first_number, second_number):\n",
        "    # Convert the start and end labels to one-hot encoded vectors.\n",
        "    first_label = keras.utils.to_categorical([first_number], num_classes)\n",
        "    second_label = keras.utils.to_categorical([second_number], num_classes)\n",
        "    first_label = ops.cast(first_label, \"float32\")\n",
        "    second_label = ops.cast(second_label, \"float32\")\n",
        "\n",
        "    # Calculate the interpolation vector between the two labels.\n",
        "    percent_second_label = ops.linspace(0, 1, num_interpolation)[:, None]\n",
        "    percent_second_label = ops.cast(percent_second_label, \"float32\")\n",
        "    interpolation_labels = (\n",
        "        first_label * (1 - percent_second_label) + second_label * percent_second_label\n",
        "    )\n",
        "\n",
        "    # Combine the noise and the labels and run inference with the generator.\n",
        "    noise_and_labels = ops.concatenate([interpolation_noise, interpolation_labels], 1)\n",
        "    fake = trained_gen.predict(noise_and_labels)\n",
        "    return fake\n",
        "\n",
        "\n",
        "start_class = 2  # @param {type:\"slider\", min:0, max:9, step:1}\n",
        "end_class = 6  # @param {type:\"slider\", min:0, max:9, step:1}\n",
        "\n",
        "fake_images = interpolate_class(start_class, end_class)"
      ],
      "metadata": {
        "colab": {
          "base_uri": "https://localhost:8080/"
        },
        "id": "PzI9ycPoOe_W",
        "outputId": "eed6721c-2484-4f24-a130-a195fbf51f1a"
      },
      "execution_count": null,
      "outputs": [
        {
          "output_type": "stream",
          "name": "stdout",
          "text": [
            "\u001b[1m1/1\u001b[0m \u001b[32m━━━━━━━━━━━━━━━━━━━━\u001b[0m\u001b[37m\u001b[0m \u001b[1m1s\u001b[0m 621ms/step\n"
          ]
        }
      ]
    },
    {
      "cell_type": "code",
      "source": [
        "fake_images *= 255.0\n",
        "converted_images = fake_images.astype(np.uint8)\n",
        "converted_images = ops.image.resize(converted_images, (96, 96)).numpy().astype(np.uint8)\n",
        "imageio.mimsave(\"animation.gif\", converted_images[:, :, :, 0], fps=1)\n",
        "embed.embed_file(\"animation.gif\")"
      ],
      "metadata": {
        "colab": {
          "base_uri": "https://localhost:8080/",
          "height": 118
        },
        "id": "ABopPluyRBdX",
        "outputId": "4a02ca0d-d9c4-4e32-82fe-87b079260e13"
      },
      "execution_count": null,
      "outputs": [
        {
          "output_type": "execute_result",
          "data": {
            "text/plain": [
              "<IPython.core.display.HTML object>"
            ],
            "text/html": [
              "<img src=\"data:image/gif;base64,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\"/>"
            ]
          },
          "metadata": {},
          "execution_count": 11
        }
      ]
    },
    {
      "cell_type": "code",
      "source": [
        "fake_images.shape"
      ],
      "metadata": {
        "colab": {
          "base_uri": "https://localhost:8080/"
        },
        "id": "Mop_caQCVD_u",
        "outputId": "44a94392-c808-49d3-a27d-ad50e72ed401"
      },
      "execution_count": null,
      "outputs": [
        {
          "output_type": "execute_result",
          "data": {
            "text/plain": [
              "(9, 28, 28, 1)"
            ]
          },
          "metadata": {},
          "execution_count": 12
        }
      ]
    },
    {
      "cell_type": "code",
      "source": [
        "fake_images[0].shape"
      ],
      "metadata": {
        "colab": {
          "base_uri": "https://localhost:8080/"
        },
        "id": "Fo94muWQVa_C",
        "outputId": "45a1a5d6-de90-48f4-9189-1181c9485242"
      },
      "execution_count": null,
      "outputs": [
        {
          "output_type": "execute_result",
          "data": {
            "text/plain": [
              "(28, 28, 1)"
            ]
          },
          "metadata": {},
          "execution_count": 13
        }
      ]
    },
    {
      "cell_type": "code",
      "source": [
        "import matplotlib.pyplot as plt\n",
        "plt.imshow(fake_images[7])"
      ],
      "metadata": {
        "colab": {
          "base_uri": "https://localhost:8080/",
          "height": 447
        },
        "id": "W0cyASH2VbHZ",
        "outputId": "5dc1fa47-bdaf-4d72-8516-3f6c7fd0adf9"
      },
      "execution_count": null,
      "outputs": [
        {
          "output_type": "execute_result",
          "data": {
            "text/plain": [
              "<matplotlib.image.AxesImage at 0x7f2cc92b7e80>"
            ]
          },
          "metadata": {},
          "execution_count": 14
        },
        {
          "output_type": "display_data",
          "data": {
            "text/plain": [
              "<Figure size 640x480 with 1 Axes>"
            ],
            "image/png": "[encoded data removed]"
          },
          "metadata": {}
        }
      ]
    }
  ]
}